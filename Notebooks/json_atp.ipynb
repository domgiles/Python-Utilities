{
 "cells": [
  {
   "cell_type": "markdown",
   "metadata": {},
   "source": [
    "# Oracle SODA Python Driver"
   ]
  },
  {
   "cell_type": "markdown",
   "metadata": {},
   "source": [
    "You can find the documentation for the API [here](https://cx-oracle.readthedocs.io/en/latest/soda.html#)\n",
    "\n",
    "Import the need python modules"
   ]
  },
  {
   "cell_type": "code",
   "execution_count": 66,
   "metadata": {},
   "outputs": [],
   "source": [
    "import cx_Oracle\n",
    "import os"
   ]
  },
  {
   "cell_type": "markdown",
   "metadata": {},
   "source": [
    "We can now set the location of the directory containing the wallet to enable us to connect to the ATP instance. Once we've done that we can connect to the Oracle ATP instance and get a SODA object to enable us to work with JSON documents."
   ]
  },
  {
   "cell_type": "code",
   "execution_count": 67,
   "metadata": {},
   "outputs": [],
   "source": [
    "os.environ['TNS_ADMIN'] = '/home/opc/Wallet'\n",
    "connection = cx_Oracle.connect('soe', 'ReallyLongPassw0rd', 'sbatp_tpurgent')\n",
    "soda = connection.getSodaDatabase()"
   ]
  },
  {
   "cell_type": "markdown",
   "metadata": {},
   "source": [
    "We now need to create JSON collection and if needed add any additional indexes which might accelerate data access."
   ]
  },
  {
   "cell_type": "code",
   "execution_count": 68,
   "metadata": {},
   "outputs": [
    {
     "name": "stdout",
     "output_type": "stream",
     "text": [
      "It looks like the index already exists\n"
     ]
    }
   ],
   "source": [
    "try:\n",
    "    collection = soda.createCollection(\"customers_json\")\n",
    "    collection.createIndex({ \"name\"   : \"customer_index\",\n",
    "                          \"fields\" : [ { \"path\"     : \"name_last\",\n",
    "                          \"datatype\" : \"string\"}]})\n",
    "except cx_Oracle.DatabaseError as ex:\n",
    "    print(\"It looks like the index already exists\")"
   ]
  },
  {
   "cell_type": "markdown",
   "metadata": {},
   "source": [
    "We can now add data to the collection. Here I'm inserting the document into the database and retrieving it's key. You can find find some examples/test cases on how to use collections [here](https://github.com/oracle/python-cx_Oracle/blob/master/test/SodaCollection.py)"
   ]
  },
  {
   "cell_type": "code",
   "execution_count": 69,
   "metadata": {},
   "outputs": [],
   "source": [
    "customer_doc = {\"id\"          : 1,\n",
    "       \"name_last\"    : \"Giles\",\n",
    "       \"name_first\"   : \"Dom\",\n",
    "       \"description\"  : \"Gold customer, since 1990\",\n",
    "       \"account info\" : None,\n",
    "       \"dataplan\"     : True,\n",
    "       \"phones\"       : [{\"type\" : \"mobile\", \"number\" : 9999965499},\n",
    "                         {\"type\" : \"home\",   \"number\" : 3248723987}]}\n",
    "doc = collection.insertOneAndGet(customer_doc)\n",
    "connection.commit()"
   ]
  },
  {
   "cell_type": "markdown",
   "metadata": {},
   "source": [
    "To fetch documents we could use SQL or Query By Example (QBE) as shown below. You can find further details on QBE [here](). In this example there should just be a single document. "
   ]
  },
  {
   "cell_type": "code",
   "execution_count": 70,
   "metadata": {},
   "outputs": [
    {
     "name": "stdout",
     "output_type": "stream",
     "text": [
      "1 => Dom Giles\n"
     ]
    }
   ],
   "source": [
    "documents = collection.find().filter({'name_first': {'$eq': 'Dom'}}).getDocuments()\n",
    "for document in documents:\n",
    "    data = document.getContent()\n",
    "    print(\"{} => {} {}\".format(data[\"id\"],data[\"name_first\"],data[\"name_last\"]))"
   ]
  },
  {
   "cell_type": "markdown",
   "metadata": {},
   "source": [
    "To update records we can use the `replaceOne` method."
   ]
  },
  {
   "cell_type": "code",
   "execution_count": 71,
   "metadata": {},
   "outputs": [],
   "source": [
    "document = collection.find().filter({'name_first': {'$eq': 'Dom'}}).getOne()\n",
    "updated = collection.find().key(doc.key).replaceOne({\"id\"          : 1,\n",
    "       \"name_last\"    : \"Giles\",\n",
    "       \"name_first\"   : \"Dominic\",\n",
    "       \"description\"  : \"Gold customer, since 1990\",\n",
    "       \"account info\" : None,\n",
    "       \"dataplan\"     : True,\n",
    "       \"phones\"       : [{\"type\" : \"mobile\", \"number\" : 9999965499},\n",
    "                         {\"type\" : \"home\",   \"number\" : 3248723987}]},)\n",
    "connection.commit()"
   ]
  },
  {
   "cell_type": "markdown",
   "metadata": {},
   "source": [
    "And just to make sure the change happened"
   ]
  },
  {
   "cell_type": "code",
   "execution_count": 72,
   "metadata": {},
   "outputs": [
    {
     "name": "stdout",
     "output_type": "stream",
     "text": [
      "1 => Dominic Giles\n"
     ]
    }
   ],
   "source": [
    "data = collection.find().key(document.key).getOne().getContent()\n",
    "print(\"{} => {} {}\".format(data[\"id\"], data[\"name_first\"], data[\"name_last\"]))"
   ]
  },
  {
   "cell_type": "markdown",
   "metadata": {},
   "source": [
    "And finally we can drop the collection."
   ]
  },
  {
   "cell_type": "code",
   "execution_count": 73,
   "metadata": {},
   "outputs": [],
   "source": [
    "try:\n",
    "    collection.drop()\n",
    "except cx_Oracle.DatabaseError as ex:\n",
    "    print(\"We're were unable to drop the collection\")"
   ]
  }
 ],
 "metadata": {
  "kernelspec": {
   "display_name": "Python 3",
   "language": "python",
   "name": "python3"
  },
  "language_info": {
   "codemirror_mode": {
    "name": "ipython",
    "version": 3
   },
   "file_extension": ".py",
   "mimetype": "text/x-python",
   "name": "python",
   "nbconvert_exporter": "python",
   "pygments_lexer": "ipython3",
   "version": "3.6.3"
  }
 },
 "nbformat": 4,
 "nbformat_minor": 2
}
