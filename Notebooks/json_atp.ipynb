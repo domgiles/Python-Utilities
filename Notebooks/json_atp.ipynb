{
 "cells": [
  {
   "cell_type": "markdown",
   "metadata": {},
   "source": [
    "# Oracle SODA Python Driver and Jupyter Lab"
   ]
  },
  {
   "cell_type": "markdown",
   "metadata": {},
   "source": [
    "This workbook is divided into two sections the first is a quick guide to setting up Jupyter Lab (Python Notebooks) such that it can connect to a database running inside of OCI, in this case an ATP instance. The second section uses the JSON python driver to connect to the database to run a few tests. This notebook is largely a reminder to myself on how to set this up but hopefully it will be useful to others.\n",
    "#### Setting up Python 3.6 and Jupyter Lab on our compute instance\n",
    "I won't go into much detail on setting up ATP or ADW or creating a IaaS server. I covered that process in quite a lot of detail [here](http://www.dominicgiles.com/blog/files/c84a63640d52961fc28f750570888cdc-169.html). We'll be setting up something similar to the following\n",
    "\n",
    "![OCI Cloud](http://www.dominicgiles.com/img/ATPCloud.png)\n",
    "\n",
    "Once you've created the server You'll need to logon to the server with the details found on the compute instances home screen. You just need to grab it's IP address to enable you to logon over ssh.\n",
    "\n",
    "![OCI Cloud](http://www.dominicgiles.com/img/IaaSScreenShot.png)\n",
    "\n",
    "The next step is to connect over ssh to  with a command similar to\n",
    "\n",
    "```bash\n",
    "ssh opc@132.146.27.111\n",
    "Enter passphrase for key '/Users/dgiles/.ssh/id_rsa': \n",
    "Last login: Wed Jan  9 20:48:46 2019 from host10.10.10.1\n",
    "```\n",
    "In the following steps we'll be using python so we need to set up python on the server and configure the needed modules. Our first step is to use yum to install python 3.6 (This is personal preference and you could stick with python 2.7). To do this we first need to enable yum and then install the environment. Run the following commands\n",
    "```bash\n",
    "sudo yum -y install yum-utils\n",
    "sudo yum-config-manager --enable ol7_developer_epel\n",
    "sudo yum install -y python36\n",
    "python3.6 -m venv myvirtualenv\n",
    "source myvirtualenv/bin/activate\n",
    "```\n",
    "This will install python and enable a virtual environment for use (our own Python sand pit). You can make sure that python is installed by simply typing python3.6 ie.\n",
    "```bash\n",
    "$> python3.6\n",
    "Python 3.6.3 (default, Feb  1 2018, 22:26:31) \n",
    "[GCC 4.8.5 20150623 (Red Hat 4.8.5-16)] on linux\n",
    "Type \"help\", \"copyright\", \"credits\" or \"license\" for more information.\n",
    ">>> quit()\n",
    "```\n",
    "Make sure you type `quit()` to leave the REPL environment.\n",
    "\n",
    "We now need to install the needed modules. You can do this one by one or simply use the following file [requirements.txt](https://github.com/domgiles/Python-Utilities/blob/master/Notebooks/requirements.txt) and run the following command\n",
    "```bash\n",
    "pip -p requirements.txt\n",
    "```\n",
    "This will install all of the need python modules for the next step which is to start up Jupyter Lab.\n",
    "\n",
    "[Jupyter Lab](https://jupyter.org/index.html) is an interactive web based application that enables you do interactively run code and document the process at the same time. This blog is written in it and the code below can be run once your environment is set up. Vists the website to see more details.\n",
    "\n",
    "To start jupyer lab we run the following command.\n",
    "```\n",
    "nohup jupyter-lab --ip=127.0.0.1 &\n",
    "```\n",
    "Be aware that this will only work if you have activated you virtual environment. In out instance we did this with with the command `source myvirtualenv/bin/activate`. At this point the jupyter-lab is running in the background and and is listening (by default) on port 8888. You could start a desktop up and use VNC to view the output. However I prefer to redirect the output to my own desktop over ssh. To do this you'll need to run the following ssh command from **your desktop**\n",
    "```bash\n",
    "ssh -N -f -L 5555:localhost:8888 opc@132.146.27.111\n",
    "```\n",
    "Replacing the IP address above with the one for your compute instance\n",
    "\n",
    "This will redirect the output of 8888 to port 5555 on your destop. You can then connect to it by simply going to the following url `http://localhost:5555`. After doing this you should see a screen asking you input a token (you'll only need to do this once). You can find this token inside of the `nohup.out` file running on the compute instance. It should be near the top of the file and should look something like\n",
    "```bash\n",
    "[I 20:49:12.237 LabApp] http://127.0.0.1:8888/?token=216272ef06c7b7cb3fa8da4e2d7c727dab77c0942fac29c8\n",
    "```\n",
    "Just copy the text after \"token=\" and paste it in to the dialogue box. After completing that step you should see something like this\n",
    "\n",
    "![Jupyter Lab](http://www.dominicgiles.com/img/Jupyter-lab.png)\n",
    "\n",
    "You can now start creating your own notebooks or load this one found [here](https://github.com/domgiles/Python-Utilities/blob/master/Notebooks/json_atp.ipynb). I'd visit the [website](https://jupyter-notebook.readthedocs.io/en/latest/ui_components.html) to familiarise yourself on how the notebooks work.\n"
   ]
  },
  {
   "cell_type": "markdown",
   "metadata": {},
   "source": [
    "#### Using Python and the JSON SODA API\n",
    "This section will walk through using The SODA API with Python from within the Jupyter-lab envionment we set up in the previous section. The SODA API is a simple object API that enables developers persist and retrieve JSON documents held inside of the Oracle Database. SODA drivers are available for Java, C, REST, Node and Python.\n",
    "\n",
    "You can find the documentation for this API [here](https://cx-oracle.readthedocs.io/en/latest/soda.html#)\n",
    "\n",
    "To get started we'll need to import the need the following python modules"
   ]
  },
  {
   "cell_type": "code",
   "execution_count": 11,
   "metadata": {},
   "outputs": [],
   "source": [
    "import cx_Oracle\n",
    "import keyring\n",
    "import os\n",
    "import pandas as pd"
   ]
  },
  {
   "cell_type": "markdown",
   "metadata": {},
   "source": [
    "We now need to set the location of the directory containing the wallet to enable us to connect to the ATP instance. Once we've done that we can connect to the Oracle ATP instance and get a SODA object to enable us to work with JSON documents. *NOTE : I'm using the module `keyring` to hide the password for my database. You should replace this call with the password for your user.*"
   ]
  },
  {
   "cell_type": "code",
   "execution_count": 20,
   "metadata": {},
   "outputs": [],
   "source": [
    "os.environ['TNS_ADMIN'] = '/home/opc/Wallet'\n",
    "connection = cx_Oracle.connect('json', keyring.get_password('ATPLondon','json'), 'sbatp_tpurgent')\n",
    "soda = connection.getSodaDatabase()"
   ]
  },
  {
   "cell_type": "markdown",
   "metadata": {},
   "source": [
    "We now need to create JSON collection and if needed add any additional indexes which might accelerate data access."
   ]
  },
  {
   "cell_type": "code",
   "execution_count": 21,
   "metadata": {},
   "outputs": [],
   "source": [
    "try:\n",
    "    collection = soda.createCollection(\"customers_json_soda\")\n",
    "    collection.createIndex({ \"name\"   : \"customer_index\",\n",
    "                          \"fields\" : [ { \"path\"     : \"name_last\",\n",
    "                          \"datatype\" : \"string\"}]})\n",
    "except cx_Oracle.DatabaseError as ex:\n",
    "    print(\"It looks like the index already exists : {}\".format(ex))"
   ]
  },
  {
   "cell_type": "markdown",
   "metadata": {},
   "source": [
    "We can now add data to the collection. Here I'm inserting the document into the database and retrieving it's key. You can find find some examples/test cases on how to use collections [here](https://github.com/oracle/python-cx_Oracle/blob/master/test/SodaCollection.py)"
   ]
  },
  {
   "cell_type": "code",
   "execution_count": 22,
   "metadata": {},
   "outputs": [],
   "source": [
    "customer_doc = {\"id\"          : 1,\n",
    "       \"name_last\"    : \"Giles\",\n",
    "       \"name_first\"   : \"Dom\",\n",
    "       \"description\"  : \"Gold customer, since 1990\",\n",
    "       \"account info\" : None,\n",
    "       \"dataplan\"     : True,\n",
    "       \"phones\"       : [{\"type\" : \"mobile\", \"number\" : 9999965499},\n",
    "                         {\"type\" : \"home\",   \"number\" : 3248723987}]}\n",
    "doc = collection.insertOneAndGet(customer_doc)\n",
    "connection.commit()"
   ]
  },
  {
   "cell_type": "markdown",
   "metadata": {},
   "source": [
    "To fetch documents we could use SQL or Query By Example (QBE) as shown below. You can find further details on QBE [here](). In this example there should just be a single document. *NOTE: I'm simply using pandas `DataFrame` to render the retrieved data but it does highlight how simple it is to use the framework for additional analysis at a later stage.*"
   ]
  },
  {
   "cell_type": "code",
   "execution_count": 23,
   "metadata": {},
   "outputs": [
    {
     "data": {
      "text/html": [
       "<div>\n",
       "<style scoped>\n",
       "    .dataframe tbody tr th:only-of-type {\n",
       "        vertical-align: middle;\n",
       "    }\n",
       "\n",
       "    .dataframe tbody tr th {\n",
       "        vertical-align: top;\n",
       "    }\n",
       "\n",
       "    .dataframe thead th {\n",
       "        text-align: right;\n",
       "    }\n",
       "</style>\n",
       "<table border=\"1\" class=\"dataframe\">\n",
       "  <thead>\n",
       "    <tr style=\"text-align: right;\">\n",
       "      <th></th>\n",
       "      <th>account info</th>\n",
       "      <th>dataplan</th>\n",
       "      <th>description</th>\n",
       "      <th>id</th>\n",
       "      <th>name_first</th>\n",
       "      <th>name_last</th>\n",
       "      <th>phones</th>\n",
       "    </tr>\n",
       "  </thead>\n",
       "  <tbody>\n",
       "    <tr>\n",
       "      <th>0</th>\n",
       "      <td>None</td>\n",
       "      <td>True</td>\n",
       "      <td>Gold customer, since 1990</td>\n",
       "      <td>1</td>\n",
       "      <td>Dom</td>\n",
       "      <td>Giles</td>\n",
       "      <td>[{'type': 'mobile', 'number': 9999965499}, {'t...</td>\n",
       "    </tr>\n",
       "  </tbody>\n",
       "</table>\n",
       "</div>"
      ],
      "text/plain": [
       "  account info  dataplan                description  id name_first name_last  \\\n",
       "0         None      True  Gold customer, since 1990   1        Dom     Giles   \n",
       "\n",
       "                                              phones  \n",
       "0  [{'type': 'mobile', 'number': 9999965499}, {'t...  "
      ]
     },
     "execution_count": 23,
     "metadata": {},
     "output_type": "execute_result"
    }
   ],
   "source": [
    "documents = collection.find().filter({'name_first': {'$eq': 'Dom'}}).getDocuments()\n",
    "results = [document.getContent() for document in documents]    \n",
    "pd.DataFrame(results)"
   ]
  },
  {
   "cell_type": "markdown",
   "metadata": {},
   "source": [
    "To update records we can use the `replaceOne` method."
   ]
  },
  {
   "cell_type": "code",
   "execution_count": 24,
   "metadata": {},
   "outputs": [],
   "source": [
    "document = collection.find().filter({'name_first': {'$eq': 'Dom'}}).getOne()\n",
    "updated = collection.find().key(doc.key).replaceOne({\"id\"          : 1,\n",
    "       \"name_last\"    : \"Giles\",\n",
    "       \"name_first\"   : \"Dominic\",\n",
    "       \"description\"  : \"Gold customer, since 1990\",\n",
    "       \"account info\" : None,\n",
    "       \"dataplan\"     : True,\n",
    "       \"phones\"       : [{\"type\" : \"mobile\", \"number\" : 9999965499},\n",
    "                         {\"type\" : \"home\",   \"number\" : 3248723987}]},)\n",
    "connection.commit()"
   ]
  },
  {
   "cell_type": "markdown",
   "metadata": {},
   "source": [
    "And just to make sure the change happened"
   ]
  },
  {
   "cell_type": "code",
   "execution_count": 25,
   "metadata": {},
   "outputs": [
    {
     "data": {
      "text/html": [
       "<div>\n",
       "<style scoped>\n",
       "    .dataframe tbody tr th:only-of-type {\n",
       "        vertical-align: middle;\n",
       "    }\n",
       "\n",
       "    .dataframe tbody tr th {\n",
       "        vertical-align: top;\n",
       "    }\n",
       "\n",
       "    .dataframe thead th {\n",
       "        text-align: right;\n",
       "    }\n",
       "</style>\n",
       "<table border=\"1\" class=\"dataframe\">\n",
       "  <thead>\n",
       "    <tr style=\"text-align: right;\">\n",
       "      <th></th>\n",
       "      <th>account info</th>\n",
       "      <th>dataplan</th>\n",
       "      <th>description</th>\n",
       "      <th>id</th>\n",
       "      <th>name_first</th>\n",
       "      <th>name_last</th>\n",
       "      <th>phones</th>\n",
       "    </tr>\n",
       "  </thead>\n",
       "  <tbody>\n",
       "    <tr>\n",
       "      <th>0</th>\n",
       "      <td>None</td>\n",
       "      <td>True</td>\n",
       "      <td>Gold customer, since 1990</td>\n",
       "      <td>1</td>\n",
       "      <td>Dominic</td>\n",
       "      <td>Giles</td>\n",
       "      <td>[{'type': 'mobile', 'number': 9999965499}, {'t...</td>\n",
       "    </tr>\n",
       "  </tbody>\n",
       "</table>\n",
       "</div>"
      ],
      "text/plain": [
       "  account info  dataplan                description  id name_first name_last  \\\n",
       "0         None      True  Gold customer, since 1990   1    Dominic     Giles   \n",
       "\n",
       "                                              phones  \n",
       "0  [{'type': 'mobile', 'number': 9999965499}, {'t...  "
      ]
     },
     "execution_count": 25,
     "metadata": {},
     "output_type": "execute_result"
    }
   ],
   "source": [
    "data = collection.find().key(document.key).getOne().getContent()\n",
    "pd.DataFrame([data])"
   ]
  },
  {
   "cell_type": "markdown",
   "metadata": {},
   "source": [
    "And finally we can drop the collection."
   ]
  },
  {
   "cell_type": "code",
   "execution_count": 26,
   "metadata": {},
   "outputs": [],
   "source": [
    "try:\n",
    "    collection.drop()\n",
    "except cx_Oracle.DatabaseError as ex:\n",
    "    print(\"We're were unable to drop the collection\")"
   ]
  },
  {
   "cell_type": "code",
   "execution_count": 27,
   "metadata": {},
   "outputs": [],
   "source": [
    "connection.close()"
   ]
  },
  {
   "cell_type": "code",
   "execution_count": null,
   "metadata": {},
   "outputs": [],
   "source": []
  }
 ],
 "metadata": {
  "kernelspec": {
   "display_name": "Python 3",
   "language": "python",
   "name": "python3"
  },
  "language_info": {
   "codemirror_mode": {
    "name": "ipython",
    "version": 3
   },
   "file_extension": ".py",
   "mimetype": "text/x-python",
   "name": "python",
   "nbconvert_exporter": "python",
   "pygments_lexer": "ipython3",
   "version": "3.6.3"
  }
 },
 "nbformat": 4,
 "nbformat_minor": 2
}
